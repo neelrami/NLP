{
 "cells": [
  {
   "cell_type": "code",
   "execution_count": 20,
   "metadata": {
    "collapsed": true
   },
   "outputs": [],
   "source": [
    "import twitter"
   ]
  },
  {
   "cell_type": "code",
   "execution_count": 21,
   "metadata": {
    "collapsed": true
   },
   "outputs": [],
   "source": [
    "api = twitter.Api(consumer_key='your consumer key',\n",
    "                 consumer_secret='your consumer secret',\n",
    "                 access_token_key='your access token key',\n",
    "                 access_token_secret='your access token secret')"
   ]
  },
  {
   "cell_type": "code",
   "execution_count": 22,
   "metadata": {},
   "outputs": [
    {
     "name": "stdout",
     "output_type": "stream",
     "text": [
      "{\"created_at\": \"Sat Aug 09 16:57:54 +0000 2014\", \"default_profile\": true, \"default_profile_image\": true, \"favourites_count\": 9, \"followers_count\": 4, \"friends_count\": 7, \"id\": 2719713302, \"lang\": \"en\", \"listed_count\": 1, \"name\": \"Neel Rami\", \"profile_background_color\": \"C0DEED\", \"profile_background_image_url\": \"http://abs.twimg.com/images/themes/theme1/bg.png\", \"profile_image_url\": \"http://abs.twimg.com/sticky/default_profile_images/default_profile_normal.png\", \"profile_link_color\": \"1DA1F2\", \"profile_sidebar_fill_color\": \"DDEEF6\", \"profile_text_color\": \"333333\", \"screen_name\": \"RamiNeel\", \"status\": {\"created_at\": \"Wed Sep 14 10:55:55 +0000 2016\", \"favorited\": true, \"id\": 776011590952902656, \"id_str\": \"776011590952902656\", \"lang\": \"en\", \"retweet_count\": 22, \"retweeted\": true, \"retweeted_status\": {\"created_at\": \"Wed Sep 14 01:52:34 +0000 2016\", \"favorite_count\": 39, \"favorited\": true, \"id\": 775874850766204929, \"id_str\": \"775874850766204929\", \"lang\": \"en\", \"media\": [{\"display_url\": \"pic.twitter.com/HoW9lZ7smt\", \"expanded_url\": \"https://twitter.com/enthusiavjti/status/775874850766204929/photo/1\", \"id\": 775874840611872768, \"media_url\": \"http://pbs.twimg.com/media/CsR2DojVYAAXjsk.jpg\", \"media_url_https\": \"https://pbs.twimg.com/media/CsR2DojVYAAXjsk.jpg\", \"sizes\": {\"large\": {\"h\": 395, \"resize\": \"fit\", \"w\": 594}, \"medium\": {\"h\": 395, \"resize\": \"fit\", \"w\": 594}, \"small\": {\"h\": 395, \"resize\": \"fit\", \"w\": 594}, \"thumb\": {\"h\": 150, \"resize\": \"crop\", \"w\": 150}}, \"type\": \"photo\", \"url\": \"https://t.co/HoW9lZ7smt\"}, {\"display_url\": \"pic.twitter.com/HoW9lZ7smt\", \"expanded_url\": \"https://twitter.com/enthusiavjti/status/775874850766204929/photo/1\", \"id\": 775874846504857601, \"media_url\": \"http://pbs.twimg.com/media/CsR2D-gVMAEqvC3.jpg\", \"media_url_https\": \"https://pbs.twimg.com/media/CsR2D-gVMAEqvC3.jpg\", \"sizes\": {\"large\": {\"h\": 292, \"resize\": \"fit\", \"w\": 475}, \"medium\": {\"h\": 292, \"resize\": \"fit\", \"w\": 475}, \"small\": {\"h\": 292, \"resize\": \"fit\", \"w\": 475}, \"thumb\": {\"h\": 150, \"resize\": \"crop\", \"w\": 150}}, \"type\": \"photo\", \"url\": \"https://t.co/HoW9lZ7smt\"}], \"retweet_count\": 22, \"retweeted\": true, \"source\": \"<a href=\\\"http://twitter.com/download/android\\\" rel=\\\"nofollow\\\">Twitter for Android</a>\", \"text\": \"Devendra Jhajharia clinches #Gold in F46 Javelin Throw! Wins his second #Paralympics Gold!\\ud83d\\udcaa\\nIndia is proud of him! \\ud83d\\ude4c https://t.co/HoW9lZ7smt\"}, \"source\": \"<a href=\\\"http://twitter.com\\\" rel=\\\"nofollow\\\">Twitter Web Client</a>\", \"text\": \"RT @enthusiavjti: Devendra Jhajharia clinches #Gold in F46 Javelin Throw! Wins his second #Paralympics Gold!\\ud83d\\udcaa\\nIndia is proud of him! \\ud83d\\ude4c http\\u2026\"}, \"statuses_count\": 7}\n"
     ]
    }
   ],
   "source": [
    "print(api.VerifyCredentials())"
   ]
  },
  {
   "cell_type": "code",
   "execution_count": 25,
   "metadata": {},
   "outputs": [
    {
     "name": "stdout",
     "output_type": "stream",
     "text": [
      "Enter ur search term: Apple\n",
      "Great! We fetched 100 tweets with the term Apple!!\n"
     ]
    }
   ],
   "source": [
    "def createTestData(search_string):\n",
    "    try:\n",
    "        tweets_fetched=api.GetSearch(search_string, count=100)\n",
    "        print(\"Great! We fetched \"+str(len(tweets_fetched))+\" tweets with the term \"+search_string+\"!!\")\n",
    "        return [{\"text\":status.text,\"label\":None} for status in tweets_fetched]\n",
    "    except:\n",
    "        print(\"Some error has occured!\")\n",
    "        return None\n",
    "    \n",
    "search_string=input(\"Enter ur search term: \")\n",
    "testData=createTestData(search_string)"
   ]
  },
  {
   "cell_type": "code",
   "execution_count": 26,
   "metadata": {},
   "outputs": [
    {
     "data": {
      "text/plain": [
       "[{'label': None,\n",
       "  'text': '#Army, keep in mind you have a FULL week to make @BTS_twt\\'s \"Mic Drop\" chart high on Billboard! Buying and streamin… https://t.co/1udMz4aSuh'},\n",
       " {'label': None,\n",
       "  'text': 'Three new behind-the-scenes videos available now.\\n\\nOnly on @AppleMusic: https://t.co/nNtHaYzZrp https://t.co/a4E6cNaD3B'},\n",
       " {'label': None, 'text': '@billboard Basically: https://t.co/RWSr1UGyfR'},\n",
       " {'label': None,\n",
       "  'text': 'RT @RoadTripTV: talk to you is a bop, you’ll wanna hear the full eps so make sure y’all pre order this:\\n\\nhttps://t.co/Yqb4RltCAF\\n\\n@HRVY 👑🌵…'},\n",
       " {'label': None,\n",
       "  'text': 'Apple Pay Cash: Everything You Need To Know https://t.co/sCn1FmEd57.'},\n",
       " {'label': None,\n",
       "  'text': '私のペルクラクラウン:) \\n#taptapfish\\nDownload: https://t.co/Ixb6sdTByX https://t.co/A7g5DlbMrc'},\n",
       " {'label': None,\n",
       "  'text': 'RT @Truecrimebased: On this day in 1984, Wes Craven’s ‘A Nightmare on Elm Street’ opened. It’s one of my favorite movies, and if you haven’…'},\n",
       " {'label': None,\n",
       "  'text': 'Goooodmorning!!! RETWEET THIS AND GET 2 COMPANY CHECK BY FREE! Includes: sold by https://t.co/ZfFIrH3uaD of… https://t.co/4VpJqiPh0d'},\n",
       " {'label': None,\n",
       "  'text': \"Apple's latest acquisition could enable better low-light photos on your iPhone https://t.co/argIeJF4q1\"}]"
      ]
     },
     "execution_count": 26,
     "metadata": {},
     "output_type": "execute_result"
    }
   ],
   "source": [
    "testData[0:9]"
   ]
  },
  {
   "cell_type": "code",
   "execution_count": 27,
   "metadata": {
    "collapsed": true
   },
   "outputs": [],
   "source": [
    "import csv"
   ]
  },
  {
   "cell_type": "code",
   "execution_count": 38,
   "metadata": {
    "collapsed": true
   },
   "outputs": [],
   "source": [
    "def createLimitedTrainingCorpus(corpusFile,tweetDataFile):\n",
    "    corpus=[]\n",
    "    with open(corpusFile,'rt') as csvfile:\n",
    "        lineReader = csv.reader(csvfile,delimiter=',',quotechar=\"\\\"\")\n",
    "        for row in lineReader:\n",
    "            corpus.append({\"tweet_id\":row[2],\"label\":row[1],\"topic\":row[0]})\n",
    "    trainingData=[]\n",
    "    for label in [\"positive\",\"negative\"]:\n",
    "        i=1\n",
    "        for tweet in corpus:\n",
    "            if tweet[\"label\"]==label and i<=50:\n",
    "                try:\n",
    "                    status=api.GetStatus(tweet[\"tweet_id\"])\n",
    "                    print(\"Tweet fetched\" + status.text)\n",
    "                    tweet[\"text\"]=status.text\n",
    "                    trainingData.append(tweet)\n",
    "                    i=i+1\n",
    "                except Exception as e: \n",
    "                    print(e)\n",
    "                    \n",
    "    with open(tweetDataFile,'w') as csvfile:\n",
    "        linewriter=csv.writer(csvfile,delimiter=',',quotechar=\"\\\"\")\n",
    "        for tweet in trainingData:\n",
    "            try:\n",
    "                linewriter.writerow([tweet[\"tweet_id\"],tweet[\"text\"],tweet[\"label\"],tweet[\"topic\"]])\n",
    "            except Exception as e:\n",
    "                print(e)\n",
    "    return trainingData"
   ]
  },
  {
   "cell_type": "code",
   "execution_count": 39,
   "metadata": {},
   "outputs": [
    {
     "name": "stdout",
     "output_type": "stream",
     "text": [
      "Tweet fetchedNow all @Apple has to do is get swype on the iphone and it will be crack. Iphone that is\n",
      "[{'code': 179, 'message': 'Sorry, you are not authorized to see this status.'}]\n",
      "Tweet fetchedHilarious @youtube video - guy does a duet with @apple 's Siri. Pretty much sums up the love affair! http://t.co/8ExbnQjY\n",
      "Tweet fetched@RIM you made it too easy for me to switch to @Apple iPhone. See ya!\n",
      "[{'code': 144, 'message': 'No status found with that ID.'}]\n",
      "[{'code': 144, 'message': 'No status found with that ID.'}]\n",
      "Tweet fetchedThe 16 strangest things Siri has said so far. I am SOOO glad that @Apple gave Siri a sense of humor! http://t.co/TWAeUDBp via @HappyPlace\n",
      "Tweet fetchedGreat up close & personal event @Apple tonight in Regent St store!\n",
      "Tweet fetchedFrom which companies do you experience the best customer service aside from @zappos and @apple?\n",
      "Tweet fetchedJust apply for a job at @Apple, hope they call me lol\n",
      "[{'code': 144, 'message': 'No status found with that ID.'}]\n",
      "Tweet fetchedLmao I think @apple is onto something magical! I am DYING!!! haha. Siri suggested where to find whores and where to hide a body lolol\n",
      "Tweet fetchedRT @PhillipRowntree: Just registered as an @apple developer... Here's hoping I can actually do it... Any help, greatly appreciated!\n",
      "Tweet fetchedWow. Great deals on refurbed #iPad (first gen) models. RT: Apple offers great deals on refurbished 1st-gen iPads http://t.co/ukWOKBGd @Apple\n",
      "Tweet fetchedJust registered as an @apple developer... Here's hoping I can actually do it... Any help, greatly appreciated!\n",
      "Tweet fetched你好 ! Currently learning Mandarin for my upcoming trip to Hong Kong. I gotta hand it to @Apple iPhones & their uber useful flashcard apps  \n",
      "[{'code': 144, 'message': 'No status found with that ID.'}]\n",
      "Tweet fetchedCome to the dark side 📱“@gretcheneclark: Hey @apple, if you send me a free iPhone, I will publicly and ceremoniously burn my #BlackBerry.”\n",
      "[{'code': 144, 'message': 'No status found with that ID.'}]\n",
      "[{'code': 179, 'message': 'Sorry, you are not authorized to see this status.'}]\n",
      "[{'code': 144, 'message': 'No status found with that ID.'}]\n",
      "[{'code': 144, 'message': 'No status found with that ID.'}]\n",
      "Tweet fetchedThanks to @Apple Covent Garden #GeniusBar for replacing my MacBook keyboard/cracked wristpad during my lunch break today, out of warranty.\n",
      "Tweet fetched@DailyDealChat @apple Thanks!!\n",
      "Tweet fetchediPads Replace Bound Playbooks on Some N.F.L. Teams http://t.co/2UXAWKwf @apple @nytimes\n",
      "[{'code': 63, 'message': 'User has been suspended.'}]\n",
      "Tweet fetched@apple @siri is efffing amazing!!\n",
      "[{'code': 144, 'message': 'No status found with that ID.'}]\n",
      "Tweet fetchedRT @TripLingo: We're one of a few \"Featured Education Apps\" on the @Apple **Website** today, sweet! http://t.co/0yWvbe1Z\n",
      "Tweet fetchedWe're one of a few \"Featured Education Apps\" on the @Apple **Website** today, sweet! http://t.co/0yWvbe1Z\n",
      "Tweet fetchedWhen you want something done right, you do it yourself... or go to @Apple. AT&T you're useless these days. #yourdaysarenumbered\n",
      "\n",
      "\n",
      "Tweet fetchedWe did an unexpected workshop for the #iPhone4S at @apple yesterday and we got an awesome amount of info #notjustaboutthephone @gamerchik16\n",
      "[{'code': 144, 'message': 'No status found with that ID.'}]\n",
      "Tweet fetched---» RT @Apple No question bro. RT @AintEeenTrippin: Should I get dis iPhone or a EVO 3D?\n",
      "Tweet fetchedRT @imightbewrong: I'm OVER people bitching about the #iPhone4S... I think it's the smartest phone I've ever had and I'm very happy.   : ...\n",
      "Tweet fetchedI'm OVER people bitching about the #iPhone4S... I think it's the smartest phone I've ever had and I'm very happy.   :)  Way to go @Apple!\n",
      "Tweet fetched@Twitter CEO points to @Apple as 'corporate mentor' as @iOS signups triple http://t.co/GCY8iphN\n",
      "Tweet fetchedAt the bus with my iPhone ;) thxx @apple\n",
      "Tweet fetched@azee1v1 @apple @umber AppStore is well done, so is iTunes on the mobile devices.  I was talking about desktop app.\n",
      "[{'code': 144, 'message': 'No status found with that ID.'}]\n",
      "Tweet fetchedNYTimes: Coach Wants to See You. And Bring Your iPad. http://t.co/J2FTiEnG #iPad @apple set red 42 red 42 hut hut @NFL wish I had an #iPad\n",
      "Tweet fetched@apple @jilive @DanielPink: Apple sells 4 million iPhone 4S units in first weekend ... Steve Jobs brilliance lives on for ever! #iphone #RVA\n",
      "[{'code': 179, 'message': 'Sorry, you are not authorized to see this status.'}]\n",
      "Tweet fetched@bkad5161 than apologize to @apple ;)\n",
      "Tweet fetched@Apple downloads of iOS 5 are proving popular with users  -- http://t.co/NSHLfiUX\n",
      "Tweet fetchedLmfao look at the argument I had with Siri !!\n",
      "@ijustine @apple http://t.co/D4VjL7SI\n",
      "Tweet fetchedIncredible: 4 million iPhone 4Ss in 3 days. 135% better than the iPhone 4 http://t.co/1FMJxTMM @apple #iphone4s\n",
      "[{'code': 179, 'message': 'Sorry, you are not authorized to see this status.'}]\n",
      "Tweet fetchedWell @apple fixed my #ios5 battery drain problem with a replacement iPhone 4 -- it's working like a champ now\n",
      "Tweet fetchedCurrently ordering a BRAND NEW MACBOOK PRO!!! Bahhh... my MacBook is 5 years old. I'll miss it. But it's time. cc: @Apple -\n",
      "[{'code': 144, 'message': 'No status found with that ID.'}]\n",
      "Tweet fetched#Siri now knows who my dad, mom, brother and girlfriend is.  Thanks @apple\n",
      "Tweet fetchedWell at least the @apple store has amazing call waiting music! #need4s\n",
      "Tweet fetched#sweet... #apple replaced my glass #probono. thank you @apple\n",
      "Tweet fetchedNot Bad! @Apple Sells Over 4 Million #IPhones in Debut Weekend - Bloomberg http://t.co/AVSl3ygU - #smartphone #sm RT @VinodRad\n",
      "Tweet fetchedloving new technology from @apple iPhone 4s, mac air and iCloud are unreal #technology\n",
      "Tweet fetchedI'm loving this new IOS5 update :) @apple\n",
      "Tweet fetchedAnother mention for Apple Store: http://t.co/fiIOApKt - RT @floridamike Once again getting great customer service from the @apple store ...\n",
      "[{'code': 144, 'message': 'No status found with that ID.'}]\n",
      "Tweet fetchedTime to go get my iPhone 4s.  Looking forward to sticking it to the man by no longer paying for most texts.  Thanks @apple.\n",
      "[{'code': 179, 'message': 'Sorry, you are not authorized to see this status.'}]\n",
      "Tweet fetchedThank you @apple. My new gf(iphone4s) is great!  She does everything!\n",
      "Tweet fetched#iCloud set up was flawless and works like a champ! To the Cloud @Apple\n",
      "Tweet fetched@Wisconsin_Mommy @Apple I'd totally email the company... I always get great service at our @Apple store!\n",
      "Tweet fetched@apple loving the new IOS5 upgrade for the iPhone!\n",
      "[{'code': 144, 'message': 'No status found with that ID.'}]\n",
      "Tweet fetchedOnce again getting great customer service from the @apple store at millenia mall.\n",
      "Tweet fetchedIs it just me or is #iOS5 faster for the iPad? @apple\n",
      "[{'code': 144, 'message': 'No status found with that ID.'}]\n",
      "Tweet fetchedmaking the switch from @Android to @Apple #iphone #iphone4S #smartphone #stevejobs (@ Apple Store) http://t.co/kj6pJvkH\n",
      "Tweet fetchedRT @cjwallace03: So apparently @apple put MB cap on your SMS with the new update. 25mb storage before it tells you your inbox is full. W ...\n",
      "Tweet fetchedRT @Jewelz2611 @mashable @apple, iphones r 2 expensive. Most went w/ htc/galaxy. No customer loyalty w/phone comp..\n",
      "Tweet fetched@mashable @apple, iphones r 2 expensive. Most went w/ htc/galaxy. No customer loyalty w/phone comp..\n",
      "[{'code': 144, 'message': 'No status found with that ID.'}]\n",
      "Tweet fetched@apple why my tunes no go on my iPhone? iPhone lonely without them. silly #iOS5\n",
      "Tweet fetched@apple needs to hurry up and release #iTunesMatch\n",
      "Tweet fetchedWhy is  #Siri always down @apple\n",
      "Tweet fetchedI just need to exchange a cord at the apple store why do I have to wait for a genius? @apple\n",
      "Tweet fetched@apple AirDrop #fail - Immediate \"declined your request.\" every time\n",
      "Tweet fetchedgood article about why @apple fucked it all up with lion and their future. http://t.co/zNDP9Vr6 #fb\n",
      "[{'code': 179, 'message': 'Sorry, you are not authorized to see this status.'}]\n",
      "Tweet fetchedYellowgate? Some iPhone 4S Users Complain of Yellow Tint to Screen http://t.co/uaqrxTNk @apple @iphone4s\n",
      "Tweet fetchedThe one #iphone feature still missing since @apple first showed it.. Contacts pictures on the contacts list! Simple yet 5 major updates miss\n"
     ]
    },
    {
     "name": "stdout",
     "output_type": "stream",
     "text": [
      "Tweet fetchedAsked siri is she dreams of electric sleep. Was disappointed that she didn't have a snippy answer.  Missed opportunity @apple\n",
      "Tweet fetched@paulens It surprises me that @Apple throws up an error alert about authorizing, and there's no \"Authorize this computer\" button.\n",
      "[{'code': 144, 'message': 'No status found with that ID.'}]\n",
      "Tweet fetchedFUCK YOU @apple DIE IN A FUCKING BLAZE INFERNO.\n",
      "Tweet fetchedOh, @apple. Steve obviously had nothing to do with iPhoto, as it's the perfect opposite of 'insanely great'. Get it fixed, please.\n",
      "[{'code': 179, 'message': 'Sorry, you are not authorized to see this status.'}]\n",
      "Tweet fetched@ryanbaldwin @apple So in iTunes I go Store -&gt; Authorise… why doesn't it just auto-authorise it when I sign into iTunes? Grrrr...\n",
      "Tweet fetchedSeriously - I have absolutely no offing clue what @Apple means by \"authorization\", nor how to do it.\n",
      "Tweet fetchedBoy, could @apple make it any harder to put my purchased music from the cloud on to my new macbook pro? \"You must authorize this computer…\"\n",
      "Tweet fetchedshit, shit, shit. IOS5 update ate all my apps, data and media just like @apple said it would. This is going to take some time to rebuild.\n",
      "Tweet fetched. @apple & @AT&T u cannot tell me there isn't at least 1 64GB iPhone 4S in LA or Vegas!! Give me a fucking break!!!!\n",
      "Tweet fetchedLove @apple downloads. 4 hours and i-pad now wonky! #ripstevejobs #thenonsensepersists #neednewipadguide #fatfuckingchance\n",
      "Tweet fetchedDear @apple My new Air is now a notbook since your update killed #wifi #bug #destroying #productivity\n",
      "Tweet fetchedI am so done with @Att and @apple 's profitering and lack of customer service, so fucking down with both!!!\n",
      "Tweet fetchedIt would be great If @Apple would send my new phone. #frustrated\n",
      "Tweet fetched@apple thank you for ruining my 3GS with #iOS5. You've just turned my phone into an utterly useless pile of shit.\n",
      "Tweet fetched@rogerweir no but I have the option of a  replacement iPhone 4s ?\n",
      "Not sure if I want one after having 2 duff iPhones.\n",
      "@O2 @iphone4s @apple\n",
      "Tweet fetchedSo apparently @apple put MB cap on your SMS with the new update. 25mb storage before it tells you your inbox is full. What is this 2001?\n",
      "Tweet fetchedYou know @apple It's been almost a week since I paid for iTunes Match, I would really like to use it. Any ETA on a fix?\n",
      "Tweet fetchedremoving all @apple shit.\n",
      "Tweet fetchedSo @PhoenixSwinger 's iPhone 4 is giving her a hella hard time w/ the iOS5 update @apple\n",
      "[{'code': 144, 'message': 'No status found with that ID.'}]\n",
      "Tweet fetched@Apple can't send me an iPhone preordered 1hr after launching but they cans send 5 or 10 to all the jackasses who want to shoot or blend 'em\n",
      "Tweet fetchedGotta say the @Apple itouch iphone shuffle etc.. sound quality is AWFUL.. painfully crap. Its been a downgrade from @Sony sound quality wise\n",
      "Tweet fetched@bisquiat @Apple the upgrade just slows down my phone so much, it's stuck half the time. uch. thankfully no other damage. sucks for you :(\n",
      "Tweet fetched@Mayati I think @Apple didn't do such a thorough job with the step x steps for upgrade and move to iCloud. Now it's cost me mightily.\n",
      "Tweet fetchedHey @apple now I have iOS5 my iPhone doesn't include songs that are on compilation albums under the artist's name. #whaddupwitdat\n",
      "Tweet fetched@NickTheFNicon He can send but not rcve txts so he has an apt @apple at 4pm.Then he exclaims: And I waited a whole YEAR for this phone!!LMAO\n",
      "Tweet fetchedTotal chaos at @apple store regent street. Like an Ethiopian feeding station. Can't believe this is same co. that makes all that cool shit.\n",
      "Tweet fetched@FishMama: If you made a purchase, just wait for the @apple survey! hate going b/c of the bad #custserv\n",
      "Tweet fetchedCorrection: @ Best Buy kudos to Chris @ Alamo Ranch S.A. TX-fixed issues couldn't resolve after 1/2 day w/ @ATT & @Apple. Hero of my day!\n",
      "Tweet fetched@phxguy88 @Apple @BGR That's why all the ppl who stand in line for hrs to get the \"newest\" model are suckers...\n",
      "Tweet fetchedWould it kill @apple to put a braille type bump on their earbuds so we know which bud is R and L in the dark.\n",
      "Tweet fetched@APPLE Wow @MOTOROLA Just crushed your dreams....\n",
      "Tweet fetchedTime to play a game called wait at the @apple store forever because the tourists are taking forever with their genius appointments.\n",
      "[{'code': 144, 'message': 'No status found with that ID.'}]\n",
      "Tweet fetchedOh, just fuck you, @apple. Already?? ---&gt;  iPhone 5 on schedule for summer launch? http://t.co/Ofh9PTaG via @BGR\n",
      "[{'code': 144, 'message': 'No status found with that ID.'}]\n",
      "Tweet fetched@apple, \n",
      "No, I won't wait until thursday for an available appointment just so a 'genius' can tell me I'm shit out of luck. #now\n",
      "[{'code': 144, 'message': 'No status found with that ID.'}]\n",
      "Tweet fetched@Apple, on the #iPad with #iOS5, why has the Messages Icon been included when it can't be used?\n",
      "Tweet fetched@Steelo254 yea! I pre-order through @apple and they sorry too just like #AT&T\n",
      "Tweet fetchedInteresting... @apple now requires you to have a reservation ?         #apple #iphone #4S    :  http://t.co/zZK4fTii\n",
      "Tweet fetched@apple why is my iPhone battery so crappy #fail\n",
      "Tweet fetchedMy @Apple @macbook keyboard will not type :(\n",
      "'charmap' codec can't encode characters in position 19-20: character maps to <undefined>\n",
      "'charmap' codec can't encode character '\\U0001f4f1' in position 42: character maps to <undefined>\n",
      "'charmap' codec can't encode characters in position 151-153: character maps to <undefined>\n"
     ]
    }
   ],
   "source": [
    "corpusFile=\"/Users/Neel Rami/NLP/Twitter Sentiment Analysis/corpus.csv\"\n",
    "tweetDataFile=\"/Users/Neel Rami/NLP/Twitter Sentiment Analysis/tweetDataFile.csv\"\n",
    "\n",
    "trainingData=createLimitedTrainingCorpus(corpusFile,tweetDataFile)"
   ]
  },
  {
   "cell_type": "code",
   "execution_count": 40,
   "metadata": {
    "collapsed": true
   },
   "outputs": [],
   "source": [
    "import re\n",
    "from nltk.tokenize import word_tokenize\n",
    "from string import punctuation \n",
    "from nltk.corpus import stopwords "
   ]
  },
  {
   "cell_type": "code",
   "execution_count": 41,
   "metadata": {
    "collapsed": true
   },
   "outputs": [],
   "source": [
    "class PreProcessTweets:\n",
    "    def __init__(self):\n",
    "        self._stopwords=set(stopwords.words('english')+list(punctuation)+['AT_USER','URL'])\n",
    "        \n",
    "    def processTweets(self,list_of_tweets):\n",
    "        # The list of tweets is a list of dictionaries which should have the keys, \"text\" and \"label\"\n",
    "        processedTweets=[]\n",
    "        # This list will be a list of tuples. Each tuple is a tweet which is a list of words and its label\n",
    "        for tweet in list_of_tweets:\n",
    "            processedTweets.append((self._processTweet(tweet[\"text\"]),tweet[\"label\"]))\n",
    "        return processedTweets\n",
    "    \n",
    "    def _processTweet(self,tweet):\n",
    "        # 1. Convert to lower case\n",
    "        tweet=tweet.lower()\n",
    "        # 2. Replace links with the word URL \n",
    "        tweet=re.sub('((www\\.[^\\s]+)|(https?://[^\\s]+))','URL',tweet)     \n",
    "        # 3. Replace @username with \"AT_USER\"\n",
    "        tweet=re.sub('@[^\\s]+','AT_USER',tweet)\n",
    "        # 4. Replace #word with word \n",
    "        tweet=re.sub(r'#([^\\s]+)',r'\\1',tweet)\n",
    "        # You can do further cleanup as well if you like, replace \n",
    "        # repetitions of characters, for ex: change \"huuuuungry\" to \"hungry\"\n",
    "        # We'll leave that as an exercise for you on regular expressions\n",
    "        tweet=word_tokenize(tweet)\n",
    "        # This tokenizes the tweet into a list of words \n",
    "        # Let's now return this list minus any stopwords \n",
    "        return [word for word in tweet if word not in self._stopwords]"
   ]
  },
  {
   "cell_type": "code",
   "execution_count": 42,
   "metadata": {
    "collapsed": true
   },
   "outputs": [],
   "source": [
    "tweetProcessor=PreProcessTweets()\n",
    "ppTrainingData=tweetProcessor.processTweets(trainingData)\n",
    "ppTestData=tweetProcessor.processTweets(testData)"
   ]
  },
  {
   "cell_type": "code",
   "execution_count": 43,
   "metadata": {
    "collapsed": true
   },
   "outputs": [],
   "source": [
    "import nltk"
   ]
  },
  {
   "cell_type": "code",
   "execution_count": 44,
   "metadata": {
    "collapsed": true
   },
   "outputs": [],
   "source": [
    "def buildVocabulary(ppTrainingData):\n",
    "    all_words=[]\n",
    "    for (words,sentiment) in ppTrainingData:\n",
    "        all_words.extend(words)\n",
    "    # This will give us a list in which all the words in all the tweets are present\n",
    "    # These have to be de-duped. Each word occurs in this list as many times as it \n",
    "    # appears in the corpus \n",
    "    wordlist=nltk.FreqDist(all_words)\n",
    "    # This will create a dictionary with each word and its frequency\n",
    "    word_features=wordlist.keys()\n",
    "    # This will return the unique list of words in the corpus \n",
    "    return word_features"
   ]
  },
  {
   "cell_type": "code",
   "execution_count": 45,
   "metadata": {
    "collapsed": true
   },
   "outputs": [],
   "source": [
    "def extract_features(tweet):\n",
    "    tweet_words=set(tweet)\n",
    "    features={}\n",
    "    for word in word_features:\n",
    "        features['contains(%s)' % word]=(word in tweet_words)\n",
    "        # This will give us a dictionary , with keys like 'contains word1' and 'contains word2'\n",
    "        # and values as True or False \n",
    "    return features "
   ]
  },
  {
   "cell_type": "code",
   "execution_count": 46,
   "metadata": {
    "collapsed": true
   },
   "outputs": [],
   "source": [
    "word_features = buildVocabulary(ppTrainingData)\n",
    "trainingFeatures=nltk.classify.apply_features(extract_features,ppTrainingData)"
   ]
  },
  {
   "cell_type": "code",
   "execution_count": 47,
   "metadata": {
    "collapsed": true
   },
   "outputs": [],
   "source": [
    "NBayesClassifier=nltk.NaiveBayesClassifier.train(trainingFeatures)"
   ]
  },
  {
   "cell_type": "code",
   "execution_count": 48,
   "metadata": {
    "collapsed": true
   },
   "outputs": [],
   "source": [
    "from nltk.corpus import sentiwordnet as swn\n",
    "import numpy as np \n",
    "from sklearn.feature_extraction.text import CountVectorizer "
   ]
  },
  {
   "cell_type": "code",
   "execution_count": 49,
   "metadata": {
    "collapsed": true
   },
   "outputs": [],
   "source": [
    "svmTrainingData=[' '.join(tweet[0]) for tweet in ppTrainingData]\n",
    "\n",
    "vectorizer=CountVectorizer(min_df=1)\n",
    "X=vectorizer.fit_transform(svmTrainingData).toarray()\n",
    "vocabulary=vectorizer.get_feature_names()"
   ]
  },
  {
   "cell_type": "code",
   "execution_count": 50,
   "metadata": {
    "collapsed": true
   },
   "outputs": [],
   "source": [
    "swn_weights=[]\n",
    "\n",
    "for word in vocabulary:\n",
    "    try:\n",
    "        synset=list(swn.senti_synsets(word))\n",
    "        common_meaning =synset[0]\n",
    "        if common_meaning.pos_score()>common_meaning.neg_score():\n",
    "            weight=common_meaning.pos_score()\n",
    "        elif common_meaning.pos_score()<common_meaning.neg_score():\n",
    "            weight=-common_meaning.neg_score()\n",
    "        else: \n",
    "            weight=0\n",
    "    except: \n",
    "        weight=0\n",
    "    swn_weights.append(weight)"
   ]
  },
  {
   "cell_type": "code",
   "execution_count": 51,
   "metadata": {
    "collapsed": true
   },
   "outputs": [],
   "source": [
    "swn_X=[]\n",
    "for row in X: \n",
    "    swn_X.append(np.multiply(row,np.array(swn_weights)))\n",
    "swn_X=np.vstack(swn_X)\n",
    "\n",
    "labels_to_array={\"positive\":1,\"negative\":2}\n",
    "labels=[labels_to_array[tweet[1]] for tweet in ppTrainingData]\n",
    "y=np.array(labels)"
   ]
  },
  {
   "cell_type": "code",
   "execution_count": 52,
   "metadata": {},
   "outputs": [
    {
     "data": {
      "text/plain": [
       "SVC(C=1.0, cache_size=200, class_weight=None, coef0=0.0,\n",
       "  decision_function_shape='ovr', degree=3, gamma='auto', kernel='rbf',\n",
       "  max_iter=-1, probability=False, random_state=None, shrinking=True,\n",
       "  tol=0.001, verbose=False)"
      ]
     },
     "execution_count": 52,
     "metadata": {},
     "output_type": "execute_result"
    }
   ],
   "source": [
    "from sklearn.svm import SVC \n",
    "SVMClassifier=SVC()\n",
    "SVMClassifier.fit(swn_X,y)"
   ]
  },
  {
   "cell_type": "code",
   "execution_count": 53,
   "metadata": {
    "collapsed": true
   },
   "outputs": [],
   "source": [
    "NBResultLabels=[NBayesClassifier.classify(extract_features(tweet[0])) for tweet in ppTestData]"
   ]
  },
  {
   "cell_type": "code",
   "execution_count": 54,
   "metadata": {
    "collapsed": true
   },
   "outputs": [],
   "source": [
    "SVMResultLabels=[]\n",
    "for tweet in ppTestData:\n",
    "    tweet_sentence=' '.join(tweet[0])\n",
    "    svmFeatures=np.multiply(vectorizer.transform([tweet_sentence]).toarray(),np.array(swn_weights))\n",
    "    SVMResultLabels.append(SVMClassifier.predict(svmFeatures)[0])"
   ]
  },
  {
   "cell_type": "code",
   "execution_count": 57,
   "metadata": {},
   "outputs": [
    {
     "name": "stdout",
     "output_type": "stream",
     "text": [
      "NB Result Positive Sentiment89.0%\n"
     ]
    }
   ],
   "source": [
    "if NBResultLabels.count('positive')>NBResultLabels.count('negative'):\n",
    "    print(\"NB Result Positive Sentiment\" + str(100*NBResultLabels.count('positive')/len(NBResultLabels))+\"%\")\n",
    "else: \n",
    "    print(\"NB Result Negative Sentiment\" + str(100*NBResultLabels.count('negative')/len(NBResultLabels))+\"%\")"
   ]
  },
  {
   "cell_type": "code",
   "execution_count": 58,
   "metadata": {},
   "outputs": [
    {
     "name": "stdout",
     "output_type": "stream",
     "text": [
      "SVM Result Negative Sentiment100.0%\n"
     ]
    }
   ],
   "source": [
    "if SVMResultLabels.count(1)>SVMResultLabels.count(2):\n",
    "    print(\"SVM Result Positive Sentiment\" + str(100*SVMResultLabels.count(1)/len(SVMResultLabels))+\"%\")\n",
    "else: \n",
    "    print(\"SVM Result Negative Sentiment\" + str(100*SVMResultLabels.count(2)/len(SVMResultLabels))+\"%\")"
   ]
  },
  {
   "cell_type": "code",
   "execution_count": 59,
   "metadata": {},
   "outputs": [
    {
     "data": {
      "text/plain": [
       "[{'label': None,\n",
       "  'text': '#Army, keep in mind you have a FULL week to make @BTS_twt\\'s \"Mic Drop\" chart high on Billboard! Buying and streamin… https://t.co/1udMz4aSuh'},\n",
       " {'label': None,\n",
       "  'text': 'Three new behind-the-scenes videos available now.\\n\\nOnly on @AppleMusic: https://t.co/nNtHaYzZrp https://t.co/a4E6cNaD3B'},\n",
       " {'label': None, 'text': '@billboard Basically: https://t.co/RWSr1UGyfR'},\n",
       " {'label': None,\n",
       "  'text': 'RT @RoadTripTV: talk to you is a bop, you’ll wanna hear the full eps so make sure y’all pre order this:\\n\\nhttps://t.co/Yqb4RltCAF\\n\\n@HRVY 👑🌵…'},\n",
       " {'label': None,\n",
       "  'text': 'Apple Pay Cash: Everything You Need To Know https://t.co/sCn1FmEd57.'},\n",
       " {'label': None,\n",
       "  'text': '私のペルクラクラウン:) \\n#taptapfish\\nDownload: https://t.co/Ixb6sdTByX https://t.co/A7g5DlbMrc'},\n",
       " {'label': None,\n",
       "  'text': 'RT @Truecrimebased: On this day in 1984, Wes Craven’s ‘A Nightmare on Elm Street’ opened. It’s one of my favorite movies, and if you haven’…'},\n",
       " {'label': None,\n",
       "  'text': 'Goooodmorning!!! RETWEET THIS AND GET 2 COMPANY CHECK BY FREE! Includes: sold by https://t.co/ZfFIrH3uaD of… https://t.co/4VpJqiPh0d'},\n",
       " {'label': None,\n",
       "  'text': \"Apple's latest acquisition could enable better low-light photos on your iPhone https://t.co/argIeJF4q1\"},\n",
       " {'label': None,\n",
       "  'text': 'RT @taylorswift13: #reputation is out now. Let the games begin. https://t.co/oExj2XFGvH https://t.co/GzA6cTEwjf'}]"
      ]
     },
     "execution_count": 59,
     "metadata": {},
     "output_type": "execute_result"
    }
   ],
   "source": [
    "testData[0:10]"
   ]
  },
  {
   "cell_type": "code",
   "execution_count": 60,
   "metadata": {},
   "outputs": [
    {
     "data": {
      "text/plain": [
       "['negative',\n",
       " 'positive',\n",
       " 'positive',\n",
       " 'negative',\n",
       " 'positive',\n",
       " 'positive',\n",
       " 'positive',\n",
       " 'positive',\n",
       " 'positive',\n",
       " 'positive']"
      ]
     },
     "execution_count": 60,
     "metadata": {},
     "output_type": "execute_result"
    }
   ],
   "source": [
    "NBResultLabels[0:10]"
   ]
  },
  {
   "cell_type": "code",
   "execution_count": 61,
   "metadata": {},
   "outputs": [
    {
     "data": {
      "text/plain": [
       "[2, 2, 2, 2, 2, 2, 2, 2, 2, 2]"
      ]
     },
     "execution_count": 61,
     "metadata": {},
     "output_type": "execute_result"
    }
   ],
   "source": [
    "SVMResultLabels[0:10]"
   ]
  },
  {
   "cell_type": "code",
   "execution_count": null,
   "metadata": {
    "collapsed": true
   },
   "outputs": [],
   "source": []
  }
 ],
 "metadata": {
  "kernelspec": {
   "display_name": "Python [conda env:tensorflow]",
   "language": "python",
   "name": "conda-env-tensorflow-py"
  },
  "language_info": {
   "codemirror_mode": {
    "name": "ipython",
    "version": 3
   },
   "file_extension": ".py",
   "mimetype": "text/x-python",
   "name": "python",
   "nbconvert_exporter": "python",
   "pygments_lexer": "ipython3",
   "version": "3.5.4"
  }
 },
 "nbformat": 4,
 "nbformat_minor": 2
}
