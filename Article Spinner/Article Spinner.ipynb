{
 "cells": [
  {
   "cell_type": "code",
   "execution_count": 13,
   "metadata": {
    "collapsed": true
   },
   "outputs": [],
   "source": [
    "import numpy as np\n",
    "import random\n",
    "import nltk\n",
    "from bs4 import BeautifulSoup"
   ]
  },
  {
   "cell_type": "code",
   "execution_count": 14,
   "metadata": {},
   "outputs": [
    {
     "name": "stderr",
     "output_type": "stream",
     "text": [
      "C:\\Users\\Neel Rami\\Anaconda2\\envs\\tensorflow\\lib\\site-packages\\bs4\\__init__.py:181: UserWarning: No parser was explicitly specified, so I'm using the best available HTML parser for this system (\"html5lib\"). This usually isn't a problem, but if you run this code on another system, or in a different virtual environment, it may use a different parser and behave differently.\n",
      "\n",
      "The code that caused this warning is on line 193 of the file C:\\Users\\Neel Rami\\Anaconda2\\envs\\tensorflow\\lib\\runpy.py. To get rid of this warning, change code that looks like this:\n",
      "\n",
      " BeautifulSoup(YOUR_MARKUP})\n",
      "\n",
      "to this:\n",
      "\n",
      " BeautifulSoup(YOUR_MARKUP, \"html5lib\")\n",
      "\n",
      "  markup_type=markup_type))\n"
     ]
    }
   ],
   "source": [
    "positive_reviews = BeautifulSoup(open('positive.review').read())\n",
    "#print(positive_reviews)"
   ]
  },
  {
   "cell_type": "code",
   "execution_count": 15,
   "metadata": {
    "collapsed": true
   },
   "outputs": [],
   "source": [
    "positive_reviews = positive_reviews.findAll('review_text')"
   ]
  },
  {
   "cell_type": "code",
   "execution_count": 16,
   "metadata": {},
   "outputs": [],
   "source": [
    "#print(positive_reviews)"
   ]
  },
  {
   "cell_type": "code",
   "execution_count": 17,
   "metadata": {},
   "outputs": [
    {
     "name": "stdout",
     "output_type": "stream",
     "text": [
      "[nltk_data] Downloading package punkt to C:\\Users\\Neel\n",
      "[nltk_data]     Rami\\AppData\\Roaming\\nltk_data...\n",
      "[nltk_data]   Package punkt is already up-to-date!\n"
     ]
    }
   ],
   "source": [
    "nltk.download('punkt')\n",
    "trigrams = {}\n",
    "for review in positive_reviews:\n",
    "    s = review.text.lower()\n",
    "    tokens = nltk.tokenize.word_tokenize(s)\n",
    "    for i in range(len(tokens) - 2):\n",
    "        k = (tokens[i], tokens[i+2])\n",
    "        if k not in trigrams:\n",
    "            trigrams[k] = []\n",
    "        trigrams[k].append(tokens[i+1])"
   ]
  },
  {
   "cell_type": "code",
   "execution_count": 18,
   "metadata": {
    "collapsed": true
   },
   "outputs": [],
   "source": [
    "trigram_probabilities = {}\n",
    "for k, words in trigrams.items():\n",
    "    if len(set(words)) > 1:\n",
    "        d = {}\n",
    "        n = 0\n",
    "        for w in words:\n",
    "            if w not in d:\n",
    "                d[w] = 0\n",
    "            d[w] += 1\n",
    "            n += 1\n",
    "        for w, c in d.items():\n",
    "            d[w] = float(c) / n\n",
    "        trigram_probabilities[k] = d"
   ]
  },
  {
   "cell_type": "code",
   "execution_count": 19,
   "metadata": {},
   "outputs": [],
   "source": [
    "#trigram_probabilities"
   ]
  },
  {
   "cell_type": "code",
   "execution_count": 20,
   "metadata": {
    "collapsed": true
   },
   "outputs": [],
   "source": [
    "def random_sample(d):\n",
    "    r = random.random()\n",
    "    cumulative = 0\n",
    "    for w, p in d.items():\n",
    "        cumulative += p\n",
    "        if r < cumulative:\n",
    "            return w"
   ]
  },
  {
   "cell_type": "code",
   "execution_count": 21,
   "metadata": {
    "collapsed": true
   },
   "outputs": [],
   "source": [
    "def test_spinner():\n",
    "    review = random.choice(positive_reviews)\n",
    "    s = review.text.lower()\n",
    "    print(\"Original:\", s)\n",
    "    tokens = nltk.tokenize.word_tokenize(s)\n",
    "    for i in range(len(tokens) - 2):\n",
    "        if random.random() < 0.2:\n",
    "            k = (tokens[i], tokens[i+2])\n",
    "            if k in trigram_probabilities:\n",
    "                w = random_sample(trigram_probabilities[k])\n",
    "                tokens[i+1] = w\n",
    "    print(\"Spun:\")\n",
    "    print(\" \".join(tokens).replace(\" .\", \".\").replace(\" '\", \"'\").replace(\" ,\", \",\").replace(\"$ \", \"$\").replace(\" !\", \"!\"))"
   ]
  },
  {
   "cell_type": "code",
   "execution_count": 25,
   "metadata": {},
   "outputs": [
    {
     "name": "stdout",
     "output_type": "stream",
     "text": [
      "Original: \n",
      "if money was no object, i would prefer the totally wireless headset phone, however, this has been a great alternative.  i have tmj, and activities like talking with the phone crooked in my neck, while holding my toddler, while preparing dinner, compound my pain...go figure!  i find that having the phone clipped on my hip with the cord hanging is kind of a pain, but, the product works great.  i have had no problems hearing anyone, nor has anyone had difficulty hearing me.  the earpiece is comfortable and easy to get on and off, even for someone with elfishly small ears like me! \n",
      "\n",
      "Spun:\n",
      "if money was no hassles, i would prefer the totally wireless headset phone, however, this has been a great alternative. i have tmj, and activities like talking with the phone sitting in my bag, while holding my toddler, while preparing dinner, compound my pain... go figure! i find that having the phone clipped on my hip with the cord hanging is kind of a pain, but, great product is great. i have had no problems hearing anyone, nor has anyone had difficulty hearing me. the unit is comfortable and easy to use this and off, even for someone with elfishly small ears like me!\n"
     ]
    }
   ],
   "source": [
    "test_spinner()"
   ]
  },
  {
   "cell_type": "code",
   "execution_count": 26,
   "metadata": {},
   "outputs": [
    {
     "name": "stdout",
     "output_type": "stream",
     "text": [
      "Original: \n",
      "the unit operates as good as any other gps system available, plus it has a great big screen of 5 inches.  i am very impressed with the gps, but the mount used to attach the unit to the window or dash is very poorly designed.  the unit falls off the window and from the dash, plus the power cord comes out too easily.  the unit deserves a five star rating, but because of the mounting system and power cord coming out too easily a four star rating was provided.\n",
      "\n",
      "Spun:\n",
      "the unit operates as good as any other gps system start-up, plus it has a great color screen of 5 inches. i'm very impressed with the gps, but the mount used to attach the unit to the raio or dash is very poorly designed for the unit falls off the dock and from the dash, plus the power cord comes out too high. the unit deserves a five star rating, but because of the mounting system and power cord coming out too easily a 4 star rating was provided.\n"
     ]
    }
   ],
   "source": [
    "test_spinner()"
   ]
  },
  {
   "cell_type": "code",
   "execution_count": 27,
   "metadata": {},
   "outputs": [
    {
     "name": "stdout",
     "output_type": "stream",
     "text": [
      "Original: \n",
      "this product is a nice headset that did fit nicely on my ear (lucky fit i guess) and was easy to work with.  it is compact and feels quite natural for me.  not to mention it is designed to work on either ear so in the middle of a conversation you can just change ears\n",
      "\n",
      "Spun:\n",
      "this product goes a nice headset that did fit nicely on my receiver ( lucky fit i guess ) which was easy to use with. this is compact and feels quite natural for me. not to mention it is designed to classical on the ear so on the quality of a conversation you will just change ears\n"
     ]
    }
   ],
   "source": [
    "test_spinner()"
   ]
  },
  {
   "cell_type": "code",
   "execution_count": null,
   "metadata": {
    "collapsed": true
   },
   "outputs": [],
   "source": []
  }
 ],
 "metadata": {
  "kernelspec": {
   "display_name": "Python [conda env:tensorflow]",
   "language": "python",
   "name": "conda-env-tensorflow-py"
  },
  "language_info": {
   "codemirror_mode": {
    "name": "ipython",
    "version": 3
   },
   "file_extension": ".py",
   "mimetype": "text/x-python",
   "name": "python",
   "nbconvert_exporter": "python",
   "pygments_lexer": "ipython3",
   "version": "3.5.4"
  }
 },
 "nbformat": 4,
 "nbformat_minor": 2
}
